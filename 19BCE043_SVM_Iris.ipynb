{
  "nbformat": 4,
  "nbformat_minor": 0,
  "metadata": {
    "colab": {
      "name": "19BCE043_SVM_Iris.ipynb",
      "provenance": [],
      "collapsed_sections": []
    },
    "kernelspec": {
      "name": "python3",
      "display_name": "Python 3"
    },
    "language_info": {
      "name": "python"
    }
  },
  "cells": [
    {
      "cell_type": "markdown",
      "metadata": {
        "id": "vdlkkL3Hya1_"
      },
      "source": [
        "\n",
        "#### Roll No.: 19BCE041\n",
        "#### Course : Machine Learning\n",
        "#### Course Code : 2CS501\n",
        "#### Practical : 7\n",
        "#### Dataset : Iris"
      ]
    },
    {
      "cell_type": "markdown",
      "metadata": {
        "id": "7nqItbmNV-j8"
      },
      "source": [
        "Support Vector Machine or SVM is one of the most popular Supervised Learning algorithms, which is used for Classification as well as Regression problems."
      ]
    },
    {
      "cell_type": "code",
      "metadata": {
        "id": "bGVyseV9o0nM"
      },
      "source": [
        "import numpy as np\n",
        "import pandas as pd\n",
        "#importing libraries"
      ],
      "execution_count": 1,
      "outputs": []
    },
    {
      "cell_type": "code",
      "metadata": {
        "id": "LDc1lVeypDIe"
      },
      "source": [
        "import operator\n",
        "import matplotlib.pyplot as plt"
      ],
      "execution_count": 2,
      "outputs": []
    },
    {
      "cell_type": "code",
      "metadata": {
        "id": "Q8K88tFPpIT3"
      },
      "source": [
        "from sklearn.model_selection import train_test_split\n",
        "from sklearn.tree import DecisionTreeClassifier\n",
        "from sklearn.preprocessing import LabelEncoder\n"
      ],
      "execution_count": 3,
      "outputs": []
    },
    {
      "cell_type": "code",
      "metadata": {
        "id": "_7X37Ruipjcq"
      },
      "source": [
        "from sklearn import metrics,tree,datasets,svm\n",
        "from sklearn.metrics import classification_report,confusion_matrix\n"
      ],
      "execution_count": 4,
      "outputs": []
    },
    {
      "cell_type": "code",
      "metadata": {
        "colab": {
          "base_uri": "https://localhost:8080/"
        },
        "id": "2afhNRdfHhhU",
        "outputId": "b768164f-f913-418d-e9c7-c541927e1385"
      },
      "source": [
        "from sklearn.datasets import load_iris\n",
        "iris_data = load_iris()\n",
        "print(iris_data['DESCR'])\n",
        "#loading dataset \n",
        "#printing description of dataset using DESCRIBE"
      ],
      "execution_count": 5,
      "outputs": [
        {
          "output_type": "stream",
          "name": "stdout",
          "text": [
            ".. _iris_dataset:\n",
            "\n",
            "Iris plants dataset\n",
            "--------------------\n",
            "\n",
            "**Data Set Characteristics:**\n",
            "\n",
            "    :Number of Instances: 150 (50 in each of three classes)\n",
            "    :Number of Attributes: 4 numeric, predictive attributes and the class\n",
            "    :Attribute Information:\n",
            "        - sepal length in cm\n",
            "        - sepal width in cm\n",
            "        - petal length in cm\n",
            "        - petal width in cm\n",
            "        - class:\n",
            "                - Iris-Setosa\n",
            "                - Iris-Versicolour\n",
            "                - Iris-Virginica\n",
            "                \n",
            "    :Summary Statistics:\n",
            "\n",
            "    ============== ==== ==== ======= ===== ====================\n",
            "                    Min  Max   Mean    SD   Class Correlation\n",
            "    ============== ==== ==== ======= ===== ====================\n",
            "    sepal length:   4.3  7.9   5.84   0.83    0.7826\n",
            "    sepal width:    2.0  4.4   3.05   0.43   -0.4194\n",
            "    petal length:   1.0  6.9   3.76   1.76    0.9490  (high!)\n",
            "    petal width:    0.1  2.5   1.20   0.76    0.9565  (high!)\n",
            "    ============== ==== ==== ======= ===== ====================\n",
            "\n",
            "    :Missing Attribute Values: None\n",
            "    :Class Distribution: 33.3% for each of 3 classes.\n",
            "    :Creator: R.A. Fisher\n",
            "    :Donor: Michael Marshall (MARSHALL%PLU@io.arc.nasa.gov)\n",
            "    :Date: July, 1988\n",
            "\n",
            "The famous Iris database, first used by Sir R.A. Fisher. The dataset is taken\n",
            "from Fisher's paper. Note that it's the same as in R, but not as in the UCI\n",
            "Machine Learning Repository, which has two wrong data points.\n",
            "\n",
            "This is perhaps the best known database to be found in the\n",
            "pattern recognition literature.  Fisher's paper is a classic in the field and\n",
            "is referenced frequently to this day.  (See Duda & Hart, for example.)  The\n",
            "data set contains 3 classes of 50 instances each, where each class refers to a\n",
            "type of iris plant.  One class is linearly separable from the other 2; the\n",
            "latter are NOT linearly separable from each other.\n",
            "\n",
            ".. topic:: References\n",
            "\n",
            "   - Fisher, R.A. \"The use of multiple measurements in taxonomic problems\"\n",
            "     Annual Eugenics, 7, Part II, 179-188 (1936); also in \"Contributions to\n",
            "     Mathematical Statistics\" (John Wiley, NY, 1950).\n",
            "   - Duda, R.O., & Hart, P.E. (1973) Pattern Classification and Scene Analysis.\n",
            "     (Q327.D83) John Wiley & Sons.  ISBN 0-471-22361-1.  See page 218.\n",
            "   - Dasarathy, B.V. (1980) \"Nosing Around the Neighborhood: A New System\n",
            "     Structure and Classification Rule for Recognition in Partially Exposed\n",
            "     Environments\".  IEEE Transactions on Pattern Analysis and Machine\n",
            "     Intelligence, Vol. PAMI-2, No. 1, 67-71.\n",
            "   - Gates, G.W. (1972) \"The Reduced Nearest Neighbor Rule\".  IEEE Transactions\n",
            "     on Information Theory, May 1972, 431-433.\n",
            "   - See also: 1988 MLC Proceedings, 54-64.  Cheeseman et al\"s AUTOCLASS II\n",
            "     conceptual clustering system finds 3 classes in the data.\n",
            "   - Many, many more ...\n"
          ]
        }
      ]
    },
    {
      "cell_type": "code",
      "metadata": {
        "id": "s3SjPRkKAhcS"
      },
      "source": [
        "X,y = load_iris(return_X_y=True)\n",
        "#loading in X  n  Y"
      ],
      "execution_count": 6,
      "outputs": []
    },
    {
      "cell_type": "code",
      "metadata": {
        "id": "z_COEjB0Aul1"
      },
      "source": [
        "x_train= X[range(0,150,2),:]\n",
        "x_test=X[range(1,150,2),:]\n",
        "y_train=y[range(0,150,2)]\n",
        "y_test=y[range(1,150,2)]\n",
        "\n",
        "#SPLITTING OUT DATASET in training and testing"
      ],
      "execution_count": 7,
      "outputs": []
    },
    {
      "cell_type": "code",
      "metadata": {
        "id": "L2ri9JGooifL"
      },
      "source": [
        "#first of we'll prepare SVC model \n",
        "from sklearn.svm import SVC # \"Support vector classifier\"  \n",
        "model = SVC(kernel='linear', random_state=0)  \n"
      ],
      "execution_count": 8,
      "outputs": []
    },
    {
      "cell_type": "code",
      "metadata": {
        "colab": {
          "base_uri": "https://localhost:8080/"
        },
        "id": "Cqsep7yMolMX",
        "outputId": "e2f1c2e4-ad90-4025-d8b8-f49f7f655117"
      },
      "source": [
        "model.fit(x_train,y_train)\n",
        "#model fitting"
      ],
      "execution_count": 9,
      "outputs": [
        {
          "output_type": "execute_result",
          "data": {
            "text/plain": [
              "SVC(C=1.0, break_ties=False, cache_size=200, class_weight=None, coef0=0.0,\n",
              "    decision_function_shape='ovr', degree=3, gamma='scale', kernel='linear',\n",
              "    max_iter=-1, probability=False, random_state=0, shrinking=True, tol=0.001,\n",
              "    verbose=False)"
            ]
          },
          "metadata": {},
          "execution_count": 9
        }
      ]
    },
    {
      "cell_type": "code",
      "metadata": {
        "id": "M1-lc69qoxme"
      },
      "source": [
        "pred=model.predict(x_test)\n",
        "#prediction"
      ],
      "execution_count": 10,
      "outputs": []
    },
    {
      "cell_type": "code",
      "metadata": {
        "colab": {
          "base_uri": "https://localhost:8080/"
        },
        "id": "ItzYkH8Vphc9",
        "outputId": "b9842636-057d-4c39-acc4-1e3dbdd740a8"
      },
      "source": [
        "print(pred)"
      ],
      "execution_count": 11,
      "outputs": [
        {
          "output_type": "stream",
          "name": "stdout",
          "text": [
            "[0 0 0 0 0 0 0 0 0 0 0 0 0 0 0 0 0 0 0 0 0 0 0 0 0 1 1 1 1 1 1 1 1 1 1 1 1\n",
            " 1 1 1 1 2 1 1 1 1 1 1 1 1 2 2 2 2 2 2 2 2 2 2 2 2 2 2 2 2 1 2 2 2 2 2 2 2\n",
            " 2]\n"
          ]
        }
      ]
    },
    {
      "cell_type": "code",
      "metadata": {
        "colab": {
          "base_uri": "https://localhost:8080/"
        },
        "id": "GqFDC0E-phfu",
        "outputId": "f1fc52af-f605-4045-eeaa-1cfcc40d0b6c"
      },
      "source": [
        "print(y_test)"
      ],
      "execution_count": 12,
      "outputs": [
        {
          "output_type": "stream",
          "name": "stdout",
          "text": [
            "[0 0 0 0 0 0 0 0 0 0 0 0 0 0 0 0 0 0 0 0 0 0 0 0 0 1 1 1 1 1 1 1 1 1 1 1 1\n",
            " 1 1 1 1 1 1 1 1 1 1 1 1 1 2 2 2 2 2 2 2 2 2 2 2 2 2 2 2 2 2 2 2 2 2 2 2 2\n",
            " 2]\n"
          ]
        }
      ]
    },
    {
      "cell_type": "code",
      "metadata": {
        "colab": {
          "base_uri": "https://localhost:8080/"
        },
        "id": "c_-0qMaJo15n",
        "outputId": "4143ed3f-f415-406e-f4ef-bcc3530296a1"
      },
      "source": [
        "print(pred-y_test)"
      ],
      "execution_count": 13,
      "outputs": [
        {
          "output_type": "stream",
          "name": "stdout",
          "text": [
            "[ 0  0  0  0  0  0  0  0  0  0  0  0  0  0  0  0  0  0  0  0  0  0  0  0\n",
            "  0  0  0  0  0  0  0  0  0  0  0  0  0  0  0  0  0  1  0  0  0  0  0  0\n",
            "  0  0  0  0  0  0  0  0  0  0  0  0  0  0  0  0  0  0 -1  0  0  0  0  0\n",
            "  0  0  0]\n"
          ]
        }
      ]
    },
    {
      "cell_type": "code",
      "metadata": {
        "colab": {
          "base_uri": "https://localhost:8080/",
          "height": 282
        },
        "id": "byNuWOtdpU5u",
        "outputId": "4bac68ae-1f36-4266-de75-780e002a04d9"
      },
      "source": [
        "import matplotlib.pyplot as plt\n",
        "plt.plot(pred-y_test)\n",
        "#spikes displayes error"
      ],
      "execution_count": 14,
      "outputs": [
        {
          "output_type": "execute_result",
          "data": {
            "text/plain": [
              "[<matplotlib.lines.Line2D at 0x7f9324a3d1d0>]"
            ]
          },
          "metadata": {},
          "execution_count": 14
        },
        {
          "output_type": "display_data",
          "data": {
            "image/png": "[encoded data removed]",
            "text/plain": [
              "<Figure size 432x288 with 1 Axes>"
            ]
          },
          "metadata": {
            "needs_background": "light"
          }
        }
      ]
    },
    {
      "cell_type": "code",
      "metadata": {
        "colab": {
          "base_uri": "https://localhost:8080/"
        },
        "id": "q5NTTIojCdK3",
        "outputId": "fe2183e0-cd6d-44f4-d470-5e9c2051cbf4"
      },
      "source": [
        "print('The Model Has Achieved %.2f Percent Accuracy'%(100*metrics.accuracy_score(y_test,pred)))\n",
        "#97.33 % accurancy"
      ],
      "execution_count": 15,
      "outputs": [
        {
          "output_type": "stream",
          "name": "stdout",
          "text": [
            "The Model Has Achieved 97.33 Percent Accuracy\n"
          ]
        }
      ]
    },
    {
      "cell_type": "code",
      "metadata": {
        "colab": {
          "base_uri": "https://localhost:8080/"
        },
        "id": "H-Oi_4DJDnkI",
        "outputId": "5b7f53e9-5632-483a-fdf7-aeda1618061e"
      },
      "source": [
        "print(metrics.confusion_matrix(y_test,pred))"
      ],
      "execution_count": 16,
      "outputs": [
        {
          "output_type": "stream",
          "name": "stdout",
          "text": [
            "[[25  0  0]\n",
            " [ 0 24  1]\n",
            " [ 0  1 24]]\n"
          ]
        }
      ]
    },
    {
      "cell_type": "code",
      "metadata": {
        "colab": {
          "base_uri": "https://localhost:8080/"
        },
        "id": "uL7yVik_Eyft",
        "outputId": "a4ebfb66-8666-4e7c-bc22-c8f286f40abd"
      },
      "source": [
        "print(metrics.classification_report(y_test,pred,zero_division=True))"
      ],
      "execution_count": 17,
      "outputs": [
        {
          "output_type": "stream",
          "name": "stdout",
          "text": [
            "              precision    recall  f1-score   support\n",
            "\n",
            "           0       1.00      1.00      1.00        25\n",
            "           1       0.96      0.96      0.96        25\n",
            "           2       0.96      0.96      0.96        25\n",
            "\n",
            "    accuracy                           0.97        75\n",
            "   macro avg       0.97      0.97      0.97        75\n",
            "weighted avg       0.97      0.97      0.97        75\n",
            "\n"
          ]
        }
      ]
    },
    {
      "cell_type": "code",
      "metadata": {
        "id": "TSVtuvqKZLhI"
      },
      "source": [
        ""
      ],
      "execution_count": null,
      "outputs": []
    },
    {
      "cell_type": "code",
      "metadata": {
        "id": "misV_qtcZL2B"
      },
      "source": [
        "\n",
        "#now we will prepare LINEARSVC model\n",
        "from sklearn.svm import SVC ,LinearSVC  \n",
        "model = LinearSVC()  \n"
      ],
      "execution_count": 18,
      "outputs": []
    },
    {
      "cell_type": "code",
      "metadata": {
        "colab": {
          "base_uri": "https://localhost:8080/"
        },
        "id": "ax_ykxWWZL2D",
        "outputId": "ef6669ab-18b9-4830-fe0f-dd10b2be4ad7"
      },
      "source": [
        "model.fit(x_train,y_train)"
      ],
      "execution_count": 19,
      "outputs": [
        {
          "output_type": "stream",
          "name": "stderr",
          "text": [
            "/usr/local/lib/python3.7/dist-packages/sklearn/svm/_base.py:947: ConvergenceWarning: Liblinear failed to converge, increase the number of iterations.\n",
            "  \"the number of iterations.\", ConvergenceWarning)\n"
          ]
        },
        {
          "output_type": "execute_result",
          "data": {
            "text/plain": [
              "LinearSVC(C=1.0, class_weight=None, dual=True, fit_intercept=True,\n",
              "          intercept_scaling=1, loss='squared_hinge', max_iter=1000,\n",
              "          multi_class='ovr', penalty='l2', random_state=None, tol=0.0001,\n",
              "          verbose=0)"
            ]
          },
          "metadata": {},
          "execution_count": 19
        }
      ]
    },
    {
      "cell_type": "code",
      "metadata": {
        "id": "Ecm31Sd9ZL2F"
      },
      "source": [
        "pred=model.predict(x_test)"
      ],
      "execution_count": 20,
      "outputs": []
    },
    {
      "cell_type": "code",
      "metadata": {
        "colab": {
          "base_uri": "https://localhost:8080/"
        },
        "id": "GWcl_J4yZL2F",
        "outputId": "2ec32619-0d7c-4d8b-e788-edd928ba0a43"
      },
      "source": [
        "print('The Model Has Achieved %.2f Percent Accuracy'%(100*metrics.accuracy_score(y_test,pred)))"
      ],
      "execution_count": 21,
      "outputs": [
        {
          "output_type": "stream",
          "name": "stdout",
          "text": [
            "The Model Has Achieved 96.00 Percent Accuracy\n"
          ]
        }
      ]
    },
    {
      "cell_type": "code",
      "metadata": {
        "id": "fgC6ApG3Z_bB"
      },
      "source": [
        ""
      ],
      "execution_count": null,
      "outputs": []
    },
    {
      "cell_type": "code",
      "metadata": {
        "id": "9jDtNe3FZ_eM"
      },
      "source": [
        ""
      ],
      "execution_count": null,
      "outputs": []
    },
    {
      "cell_type": "code",
      "metadata": {
        "id": "ThIn03O_Z_iE"
      },
      "source": [
        "## Grid Search for Hyper-parameter tuning using sklearn"
      ],
      "execution_count": null,
      "outputs": []
    },
    {
      "cell_type": "code",
      "metadata": {
        "id": "jplJTWTnaEpQ"
      },
      "source": [
        "#importing GridSearchCV here\n",
        "from sklearn.model_selection import GridSearchCV"
      ],
      "execution_count": 24,
      "outputs": []
    },
    {
      "cell_type": "code",
      "metadata": {
        "id": "EiQE64DlaYZD"
      },
      "source": [
        "#defining set of parameters for C,Gamma value, and Kernel\n",
        "#C=Regularization parameter.\n",
        "#Kernel type \n",
        "#gamma Kernel coefficient\n",
        "params = {'C' : [0.1,1,10,50,100,1000],\n",
        "          'gamma':[1,0.1,0.01,0.001,0.0001,0.00001],\n",
        "          'kernel' : ['rbf','linear']\n",
        "             }"
      ],
      "execution_count": 25,
      "outputs": []
    },
    {
      "cell_type": "code",
      "metadata": {
        "colab": {
          "base_uri": "https://localhost:8080/"
        },
        "id": "azIAir9Valon",
        "outputId": "ff45fb1b-39f0-4b3b-fdc5-d8df9f387808"
      },
      "source": [
        "#creating our model using GridSearchCV For model with best_params values of c,gamma , kernel catagory\n",
        "model = GridSearchCV(svm.SVC(),params)\n",
        "\n",
        "# fitting model on training set\n",
        "model.fit(x_train,y_train)"
      ],
      "execution_count": 26,
      "outputs": [
        {
          "output_type": "execute_result",
          "data": {
            "text/plain": [
              "GridSearchCV(cv=None, error_score=nan,\n",
              "             estimator=SVC(C=1.0, break_ties=False, cache_size=200,\n",
              "                           class_weight=None, coef0=0.0,\n",
              "                           decision_function_shape='ovr', degree=3,\n",
              "                           gamma='scale', kernel='rbf', max_iter=-1,\n",
              "                           probability=False, random_state=None, shrinking=True,\n",
              "                           tol=0.001, verbose=False),\n",
              "             iid='deprecated', n_jobs=None,\n",
              "             param_grid={'C': [0.1, 1, 10, 50, 100, 1000],\n",
              "                         'gamma': [1, 0.1, 0.01, 0.001, 0.0001, 1e-05],\n",
              "                         'kernel': ['rbf', 'linear']},\n",
              "             pre_dispatch='2*n_jobs', refit=True, return_train_score=False,\n",
              "             scoring=None, verbose=0)"
            ]
          },
          "metadata": {},
          "execution_count": 26
        }
      ]
    },
    {
      "cell_type": "code",
      "metadata": {
        "id": "4Qvdh_3jbAiA"
      },
      "source": [
        "#Predict the result on Testing set\n",
        "prediction = model.predict(x_test)\n"
      ],
      "execution_count": 27,
      "outputs": []
    },
    {
      "cell_type": "code",
      "metadata": {
        "colab": {
          "base_uri": "https://localhost:8080/"
        },
        "id": "-xfajAIjbKjb",
        "outputId": "8b1b6a53-01ef-4701-89e3-0b31025eaa94"
      },
      "source": [
        "#print(100*(metrics.accuracy_score(y_test,prediction)))\n",
        "print('The Model Has Achieved %.2f Percent Accuracy'%(100*metrics.accuracy_score(y_test,prediction)))\n",
        "print(classification_report(y_test,prediction))\n",
        "print(confusion_matrix(y_test,prediction))\n",
        "# Display the Accuracy,statistics and Confusion matrics for this model"
      ],
      "execution_count": 32,
      "outputs": [
        {
          "output_type": "stream",
          "name": "stdout",
          "text": [
            "98.66666666666667\n",
            "The Model Has Achieved 98.67 Percent Accuracy\n",
            "              precision    recall  f1-score   support\n",
            "\n",
            "           0       1.00      1.00      1.00        25\n",
            "           1       1.00      0.96      0.98        25\n",
            "           2       0.96      1.00      0.98        25\n",
            "\n",
            "    accuracy                           0.99        75\n",
            "   macro avg       0.99      0.99      0.99        75\n",
            "weighted avg       0.99      0.99      0.99        75\n",
            "\n",
            "[[25  0  0]\n",
            " [ 0 24  1]\n",
            " [ 0  0 25]]\n"
          ]
        }
      ]
    },
    {
      "cell_type": "code",
      "metadata": {
        "colab": {
          "base_uri": "https://localhost:8080/"
        },
        "id": "R4dtmYFqsRY7",
        "outputId": "f95db473-e91a-41d4-c5f8-96d5bbd9d730"
      },
      "source": [
        "print(\"Best Parameters of model\\n\\n\",model.best_params_)"
      ],
      "execution_count": 34,
      "outputs": [
        {
          "output_type": "stream",
          "name": "stdout",
          "text": [
            "Best Parameters of model\n",
            "\n",
            " {'C': 1, 'gamma': 1, 'kernel': 'rbf'}\n"
          ]
        }
      ]
    }
  ]
}