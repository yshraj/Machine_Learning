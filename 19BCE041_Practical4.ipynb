{
 "cells": [
  {
   "cell_type": "markdown",
   "metadata": {},
   "source": [
    "#### Name: Priyal Dalwadi\n",
    "#### Roll No.: 19BCE041\n",
    "#### Course : Machine Learning\n",
    "#### Course Code : 2CS501\n",
    "#### Practical : 4\n",
    "### <span style='color:green'>Aim : Linear Regression with Regularization (without using sklearn or equivalent library) and Simple and Multiple Linear Regression with and without regularization using Sklearn.</span>"
   ]
  },
  {
   "cell_type": "markdown",
   "metadata": {},
   "source": [
    "### <span style='color:red'>Multiple Linear regression using Gradient Descent Method with Regularization.</span>"
   ]
  },
  {
   "cell_type": "code",
   "execution_count": 1,
   "metadata": {},
   "outputs": [],
   "source": [
    "import numpy as np\n",
    "from sklearn import datasets, metrics\n",
    "from sklearn.preprocessing import StandardScaler\n",
    "from matplotlib import pyplot as plt"
   ]
  },
  {
   "cell_type": "markdown",
   "metadata": {},
   "source": [
    "#### Boston Dataset: We will take the Housing dataset which contains information about different houses in Boston. This data was originally a part of UCI Machine Learning Repository and has been removed now. We can also access this data from the scikit-learn library. There are 506 samples and 13 feature variables in this dataset."
   ]
  },
  {
   "cell_type": "code",
   "execution_count": 2,
   "metadata": {},
   "outputs": [],
   "source": [
    "x, y = datasets.load_boston(return_X_y=True)"
   ]
  },
  {
   "cell_type": "markdown",
   "metadata": {},
   "source": [
    "#### <span style='color:blue'>Training dataset</span>"
   ]
  },
  {
   "cell_type": "code",
   "execution_count": 3,
   "metadata": {},
   "outputs": [],
   "source": [
    "x_training=np.ones((400,x.shape[1]+1))\n",
    "x_training[:,1:]=x[0:400,:]\n",
    "y_training=y[0:400]"
   ]
  },
  {
   "cell_type": "markdown",
   "metadata": {},
   "source": [
    "#### <span style='color:blue'>Testing dataset</span>"
   ]
  },
  {
   "cell_type": "code",
   "execution_count": 4,
   "metadata": {},
   "outputs": [],
   "source": [
    "temp=x[400:506,:]\n",
    "x_testing=np.ones((temp.shape[0],temp.shape[1]+1))\n",
    "x_testing[:,1:]=temp\n",
    "y_testing=y[400:506]"
   ]
  },
  {
   "cell_type": "code",
   "execution_count": 5,
   "metadata": {},
   "outputs": [],
   "source": [
    "scaler=StandardScaler()\n",
    "scaler.fit(x_training[:,1:])\n",
    "x_training[:,1:]=scaler.transform(x_training[:,1:])\n",
    "x_testing[:,1:]=scaler.transform(x_testing[:,1:])"
   ]
  },
  {
   "cell_type": "code",
   "execution_count": 6,
   "metadata": {},
   "outputs": [],
   "source": [
    "theta=np.random.uniform(0,1,size=(x_training.shape[1]))\n",
    "no_Of_Iteration = 1000\n",
    "learning_rate = 0.01\n",
    "n=[]\n",
    "costFunction=[]\n",
    "lambda1=10"
   ]
  },
  {
   "cell_type": "code",
   "execution_count": 7,
   "metadata": {},
   "outputs": [],
   "source": [
    "for i in range(no_Of_Iteration):\n",
    "    temp = np.zeros(x_training.shape[1])\n",
    "    y_predicted = np.dot(x_training,theta)\n",
    "    error = y_predicted - y_training\n",
    "    for j in range(x_training.shape[1]):\n",
    "        temp[j] = np.sum(np.dot(error, x_training[:,j]))\n",
    "    theta[0]=theta[0]-(1/x_training.shape[0])*learning_rate*temp[0]\n",
    "    theta[1:]=theta[1:]*(1-(learning_rate*lambda1)/x_training.shape[0])-(1/x_training.shape[0])*learning_rate*temp[1:]\n",
    "    n.append(i+1)\n",
    "    c=np.sum(np.dot(y_predicted-y_training,(y_predicted-y_training).T))\n",
    "    costFunction.append(c/(2*x_training.shape[0]))"
   ]
  },
  {
   "cell_type": "code",
   "execution_count": 8,
   "metadata": {},
   "outputs": [
    {
     "name": "stdout",
     "output_type": "stream",
     "text": [
      "Mean Absolute Error:  4.689199876752385\n",
      "Mean Squared Error:  31.80127558390843\n"
     ]
    }
   ],
   "source": [
    "y_predicted=np.dot(x_testing,theta)\n",
    "print('Mean Absolute Error: ',metrics.mean_absolute_error(y_true=y_testing, y_pred=y_predicted))\n",
    "print('Mean Squared Error: ',metrics.mean_squared_error(y_true=y_testing, y_pred=y_predicted))"
   ]
  },
  {
   "cell_type": "code",
   "execution_count": 9,
   "metadata": {},
   "outputs": [
    {
     "data": {
      "text/plain": [
       "Text(0, 0.5, 'Cost Function')"
      ]
     },
     "execution_count": 9,
     "metadata": {},
     "output_type": "execute_result"
    },
    {
     "data": {
      "image/png": "[encoded data removed]",
      "text/plain": [
       "<Figure size 432x288 with 1 Axes>"
      ]
     },
     "metadata": {
      "needs_background": "light"
     },
     "output_type": "display_data"
    }
   ],
   "source": [
    "plt.plot(np.array(n),np.array(costFunction))\n",
    "plt.xlabel('No Of Iterations')\n",
    "plt.ylabel('Cost Function')"
   ]
  },
  {
   "cell_type": "code",
   "execution_count": 12,
   "metadata": {},
   "outputs": [
    {
     "data": {
      "image/png": "[encoded data removed]",
      "text/plain": [
       "<Figure size 432x288 with 1 Axes>"
      ]
     },
     "metadata": {
      "needs_background": "light"
     },
     "output_type": "display_data"
    }
   ],
   "source": [
    "lambda2=[0,10,25,60,100]\n",
    "costt=[]\n",
    "num=[]\n",
    "for l in lambda2:\n",
    "    n2=[]\n",
    "    cost2=[]\n",
    "    for i in range(no_Of_Iteration):\n",
    "        temp = np.zeros(x_training.shape[1])\n",
    "        y_predicted = np.dot(x_training,theta)\n",
    "        error = y_predicted - y_training\n",
    "        for j in range(x_training.shape[1]):\n",
    "            temp[j] = np.sum(np.dot(error, x_training[:,j]))\n",
    "        theta[0]=theta[0]-(1/x_training.shape[0])*learning_rate*temp[0]\n",
    "        theta[1:]=theta[1:]*(1-(learning_rate*l)/x_training.shape[0])-(1/x_training.shape[0])*learning_rate*temp[1:]\n",
    "        n2.append(i+1)\n",
    "        c=np.sum(np.dot(y_predicted-y_training,(y_predicted-y_training).T))\n",
    "        cost2.append(c/(2*x_training.shape[0]))\n",
    "    num.append(n2)\n",
    "    costt.append(cost2)\n",
    "for i,j in zip(num,costt):\n",
    "    plt.plot(i,j)"
   ]
  },
  {
   "cell_type": "markdown",
   "metadata": {},
   "source": [
    "### <span style='color:red'>Multiple Linear regression using Normal Equation Method with Regularization.</span>"
   ]
  },
  {
   "cell_type": "code",
   "execution_count": 40,
   "metadata": {},
   "outputs": [],
   "source": [
    "lambda1=10000\n",
    "regularization_matrix=np.zeros((x_training.shape[1],x_training.shape[1]))\n",
    "for i in range(1,x_training.shape[1]):\n",
    "    regularization_matrix[i,i]=lambda1\n",
    "i = inv(np.dot(x_training.T,x_training)+regularization_matrix)\n",
    "theta = i.dot(x_training.T).dot(y_training)\n",
    "y_predicted = np.dot(theta,x_testing.T)"
   ]
  },
  {
   "cell_type": "code",
   "execution_count": 41,
   "metadata": {
    "scrolled": true
   },
   "outputs": [
    {
     "name": "stdout",
     "output_type": "stream",
     "text": [
      "Theta:  [ 2.43345000e+01 -7.96694093e-02  9.28356706e-02 -1.10807533e-01\n",
      "  5.05219573e-02 -8.67030786e-02  2.50251939e-01 -7.91092079e-02\n",
      "  1.97502306e-02 -5.01975784e-02 -9.06711031e-02 -1.42218775e-01\n",
      "  4.42007225e-02 -2.27809584e-01]\n",
      "\n",
      "Testing_Y:  [ 5.6  7.2 12.1  8.3  8.5  5.  11.9 27.9 17.2 27.5 15.  17.2 17.9 16.3\n",
      "  7.   7.2  7.5 10.4  8.8  8.4 16.7 14.2 20.8 13.4 11.7  8.3 10.2 10.9\n",
      " 11.   9.5 14.5 14.1 16.1 14.3 11.7 13.4  9.6  8.7  8.4 12.8 10.5 17.1\n",
      " 18.4 15.4 10.8 11.8 14.9 12.6 14.1 13.  13.4 15.2 16.1 17.8 14.9 14.1\n",
      " 12.7 13.5 14.9 20.  16.4 17.7 19.5 20.2 21.4 19.9 19.  19.1 19.1 20.1\n",
      " 19.9 19.6 23.2 29.8 13.8 13.3 16.7 12.  14.6 21.4 23.  23.7 25.  21.8\n",
      " 20.6 21.2 19.1 20.6 15.2  7.   8.1 13.6 20.1 21.8 24.5 23.1 19.7 18.3\n",
      " 21.2 17.5 16.8 22.4 20.6 23.9 22.  11.9]\n",
      "\n",
      "Predicted_Y:  [22.43544167 22.91819186 22.97915986 22.4686105  22.00629042 21.87367336\n",
      " 21.97040247 22.9263475  22.54479179 22.94309641 22.21332925 22.6767688\n",
      " 21.47085195 22.19955539 20.97934861 22.21490257 22.55898506 21.94249562\n",
      " 21.58527462 22.70140486 23.06045978 22.96771466 22.90247514 22.50796119\n",
      " 22.57163321 22.20976436 22.72003915 22.4136608  22.66537848 22.53004498\n",
      " 22.87119742 22.92245779 23.16176238 22.90524435 22.73198226 22.62920349\n",
      " 22.6171266  22.17966137 21.96755613 22.63504023 22.55616196 22.99116303\n",
      " 23.08245515 23.02988509 22.459714   22.47930923 23.00137215 23.0449516\n",
      " 22.99794243 22.96102798 22.83450463 23.18068268 23.12861103 23.44893367\n",
      " 22.75168536 22.83366091 22.57114974 22.59515463 23.03268419 23.15486992\n",
      " 23.16468714 23.2804598  23.26531148 23.44641425 23.33295669 23.19086898\n",
      " 22.70564781 22.93464126 22.97855772 23.12159206 23.26865693 23.42634739\n",
      " 23.4557841  23.68849883 22.81635467 22.82703925 23.22993091 22.41903464\n",
      " 23.05064254 23.20250816 23.5544539  23.79767628 23.92555391 23.50981327\n",
      " 23.38375372 23.60465344 23.28605417 23.40926043 22.93243431 22.64782963\n",
      " 22.31908381 23.09170024 23.30202493 23.92899571 23.98028673 23.79667041\n",
      " 23.46375022 23.84631507 23.97338556 23.72336508 23.89027699 24.24501054\n",
      " 24.08642703 24.45428046 24.36608029 24.08686428]\n"
     ]
    }
   ],
   "source": [
    "print('Theta: ',theta)\n",
    "print('\\nTesting_Y: ',y_testing)\n",
    "print('\\nPredicted_Y: ',y_predicted)"
   ]
  },
  {
   "cell_type": "code",
   "execution_count": 39,
   "metadata": {},
   "outputs": [
    {
     "name": "stdout",
     "output_type": "stream",
     "text": [
      "Mean Absolute Error:  7.5565997545922965\n",
      "Mean Squared Error:  76.24464991303995\n"
     ]
    }
   ],
   "source": [
    "print('Mean Absolute Error: ',metrics.mean_absolute_error(y_true=y_testing, y_pred=y_predicted))\n",
    "print('Mean Squared Error: ',metrics.mean_squared_error(y_true=y_testing, y_pred=y_predicted))"
   ]
  },
  {
   "cell_type": "code",
   "execution_count": null,
   "metadata": {},
   "outputs": [],
   "source": []
  }
 ],
 "metadata": {
  "kernelspec": {
   "display_name": "Python 3",
   "language": "python",
   "name": "python3"
  },
  "language_info": {
   "codemirror_mode": {
    "name": "ipython",
    "version": 3
   },
   "file_extension": ".py",
   "mimetype": "text/x-python",
   "name": "python",
   "nbconvert_exporter": "python",
   "pygments_lexer": "ipython3",
   "version": "3.8.5"
  }
 },
 "nbformat": 4,
 "nbformat_minor": 4
}
