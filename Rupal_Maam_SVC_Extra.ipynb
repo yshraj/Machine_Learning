{
  "nbformat": 4,
  "nbformat_minor": 0,
  "metadata": {
    "colab": {
      "name": "Rupal_Maam_SVC_Extra.ipynb",
      "provenance": [],
      "collapsed_sections": []
    },
    "kernelspec": {
      "name": "python3",
      "display_name": "Python 3"
    },
    "language_info": {
      "name": "python"
    }
  },
  "cells": [
    {
      "cell_type": "markdown",
      "metadata": {
        "id": "vdlkkL3Hya1_"
      },
      "source": [
        "\n",
        "#### Roll No.: 19BCE041\n",
        "#### Course : Machine Learning\n",
        "#### Course Code : 2CS501\n",
        "#### Practical : Rupal Maam Extra Svc practical on boston dataset\n",
        "#### Dataset : Boston"
      ]
    },
    {
      "cell_type": "code",
      "metadata": {
        "id": "bGVyseV9o0nM"
      },
      "source": [
        "import numpy as np\n",
        "import pandas as pd\n",
        "#importing libraries"
      ],
      "execution_count": null,
      "outputs": []
    },
    {
      "cell_type": "code",
      "metadata": {
        "id": "LDc1lVeypDIe"
      },
      "source": [
        "import operator\n",
        "import matplotlib.pyplot as plt"
      ],
      "execution_count": null,
      "outputs": []
    },
    {
      "cell_type": "code",
      "metadata": {
        "id": "Q8K88tFPpIT3"
      },
      "source": [
        "from sklearn.model_selection import train_test_split\n",
        "from sklearn.tree import DecisionTreeClassifier\n",
        "from sklearn.preprocessing import LabelEncoder\n"
      ],
      "execution_count": null,
      "outputs": []
    },
    {
      "cell_type": "code",
      "metadata": {
        "id": "_7X37Ruipjcq"
      },
      "source": [
        "from sklearn import metrics,tree,datasets,svm\n",
        "from sklearn.metrics import classification_report,confusion_matrix\n"
      ],
      "execution_count": null,
      "outputs": []
    },
    {
      "cell_type": "code",
      "metadata": {
        "id": "2afhNRdfHhhU"
      },
      "source": [
        "from sklearn import datasets"
      ],
      "execution_count": null,
      "outputs": []
    },
    {
      "cell_type": "code",
      "metadata": {
        "colab": {
          "base_uri": "https://localhost:8080/"
        },
        "id": "nb8VacwDHccX",
        "outputId": "981b0638-6b57-4e70-c66d-308c662c06b6"
      },
      "source": [
        "X,y = datasets.load_boston(return_X_y=True)\n",
        "print(X.shape)"
      ],
      "execution_count": null,
      "outputs": [
        {
          "output_type": "stream",
          "name": "stdout",
          "text": [
            "(506, 13)\n"
          ]
        }
      ]
    },
    {
      "cell_type": "code",
      "metadata": {
        "colab": {
          "base_uri": "https://localhost:8080/"
        },
        "id": "0BtdK2DK3PHA",
        "outputId": "36af36c4-09a1-452f-bbb3-8dd9165c60aa"
      },
      "source": [
        "x_training_temp=X[0:400,:]\n",
        "x_train=np.zeros((x_training_temp.shape[0],x_training_temp.shape[1]+1))\n",
        "x_train[:,0]=np.ones((x_training_temp.shape[0]))\n",
        "#print(x_train)\n",
        "\n",
        "x_train[:,1:]=x_training_temp\n",
        "print(\"Type of x_training:\",type(x_train))\n",
        "print(\"Shape of x_training:\",x_train.shape)\n",
        "#print(x_train)"
      ],
      "execution_count": null,
      "outputs": [
        {
          "output_type": "stream",
          "name": "stdout",
          "text": [
            "Type of x_training: <class 'numpy.ndarray'>\n",
            "Shape of x_training: (400, 14)\n"
          ]
        }
      ]
    },
    {
      "cell_type": "code",
      "metadata": {
        "id": "ZC7mNmHHODu6"
      },
      "source": [
        "from sklearn.preprocessing import StandardScaler\n",
        "\n",
        "scaler=StandardScaler()\n",
        "scaler.fit(x_train[:,1:])\n",
        "x_train[:,1:]=scaler.transform(x_train[:,1:])\n",
        "x_test[:,1:]=scaler.transform(x_test[:,1:])"
      ],
      "execution_count": null,
      "outputs": []
    },
    {
      "cell_type": "code",
      "metadata": {
        "colab": {
          "base_uri": "https://localhost:8080/"
        },
        "id": "-R1HQAFV4PtO",
        "outputId": "23750aab-2a70-456b-dabb-d3f49619f45b"
      },
      "source": [
        "y_train=y[0:400]\n",
        "#print(y_train)\n",
        "\n",
        "x_test_temp=X[400:506,:]\n",
        "x_test=np.zeros((x_test_temp.shape[0],x_test_temp.shape[1]+1))\n",
        "x_test[:,1:]=x_test_temp\n",
        "\n",
        "\n",
        "print(\"Type of x_train:\",type(x_test))\n",
        "print(\"Shape of x_train:\",x_test.shape)\n",
        "y_test=y[400:506]\n",
        "#print(x_train)"
      ],
      "execution_count": null,
      "outputs": [
        {
          "output_type": "stream",
          "name": "stdout",
          "text": [
            "Type of x_train: <class 'numpy.ndarray'>\n",
            "Shape of x_train: (106, 14)\n"
          ]
        }
      ]
    },
    {
      "cell_type": "code",
      "metadata": {
        "colab": {
          "base_uri": "https://localhost:8080/"
        },
        "id": "nxkQpwc3IuM1",
        "outputId": "429dbb3f-8eb4-45df-918b-c6b167a6c171"
      },
      "source": [
        "from sklearn.svm import LinearSVR,SVR\n",
        "\n",
        "lsvr = SVR()\n",
        "lsvr.fit(x_train, y_train)"
      ],
      "execution_count": null,
      "outputs": [
        {
          "output_type": "execute_result",
          "data": {
            "text/plain": [
              "SVR(C=1.0, cache_size=200, coef0=0.0, degree=3, epsilon=0.1, gamma='scale',\n",
              "    kernel='rbf', max_iter=-1, shrinking=True, tol=0.001, verbose=False)"
            ]
          },
          "metadata": {},
          "execution_count": 29
        }
      ]
    },
    {
      "cell_type": "code",
      "metadata": {
        "colab": {
          "base_uri": "https://localhost:8080/"
        },
        "id": "ic4LdTebJauf",
        "outputId": "1410260a-8433-4140-e5a3-06a2b1cb59b2"
      },
      "source": [
        "y_pred = lsvr.predict(x_test)\n",
        "train_mae = metrics.mean_absolute_error(y_test, y_pred)\n",
        "train_mse = metrics.mean_squared_error(y_test, y_pred)\n",
        "print(\"mae:\",train_mae)\n",
        "print(\"mse:\",train_mse)"
      ],
      "execution_count": null,
      "outputs": [
        {
          "output_type": "stream",
          "name": "stdout",
          "text": [
            "mae: 7.2049539846453285\n",
            "mse: 72.99233774853623\n"
          ]
        }
      ]
    }
  ]
}