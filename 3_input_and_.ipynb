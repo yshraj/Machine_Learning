{
  "nbformat": 4,
  "nbformat_minor": 0,
  "metadata": {
    "colab": {
      "name": "3_input_and_.ipynb",
      "provenance": [],
      "collapsed_sections": []
    },
    "kernelspec": {
      "name": "python3",
      "display_name": "Python 3"
    },
    "language_info": {
      "name": "python"
    }
  },
  "cells": [
    {
      "cell_type": "markdown",
      "metadata": {
        "id": "vdlkkL3Hya1_"
      },
      "source": [
        "\n",
        "#### Roll No.: 19BCE041\n",
        "#### Course : Machine Learning\n",
        "#### Course Code : 2CS501\n",
        "#### Practical : 8\n",
        "#AND gate using Perceptron Learning "
      ]
    },
    {
      "cell_type": "markdown",
      "metadata": {
        "id": "49X1yRQrFwaa"
      },
      "source": [
        "In the field of Machine Learning, the Perceptron is a Supervised Learning Algorithm for binary classifiers"
      ]
    },
    {
      "cell_type": "markdown",
      "metadata": {
        "id": "q7tTr2NsFiK6"
      },
      "source": [
        "A single perceptron can learn any function, as long as the instances in the dataset are linearly separable, like AND, OR, NAND, and NOR!"
      ]
    },
    {
      "cell_type": "markdown",
      "metadata": {
        "id": "qZ-UVvj3FQBB"
      },
      "source": [
        "![image.png](data:image/png;base64,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)"
      ]
    },
    {
      "cell_type": "code",
      "metadata": {
        "id": "IaDjeIKuV64B"
      },
      "source": [
        "import numpy as np"
      ],
      "execution_count": null,
      "outputs": []
    },
    {
      "cell_type": "code",
      "metadata": {
        "id": "fPapEDKoV9R5"
      },
      "source": [
        "Data = [[0,0,0,0],[0,0,1,0],[0,1,0,0],[0,1,1,0],[1,0,0,0],[1,0,1,0], [1,1,0,0],[1,1,1,1] ]\n",
        "Data =np.array(Data)"
      ],
      "execution_count": null,
      "outputs": []
    },
    {
      "cell_type": "code",
      "metadata": {
        "id": "DVYwdHW7WEn4"
      },
      "source": [
        "n_datapoints = Data.shape[0]"
      ],
      "execution_count": null,
      "outputs": []
    },
    {
      "cell_type": "code",
      "metadata": {
        "id": "I8SsvhQ2WZSp"
      },
      "source": [
        "n_dimensions = Data.shape[1]-1\n"
      ],
      "execution_count": null,
      "outputs": []
    },
    {
      "cell_type": "code",
      "metadata": {
        "id": "3Exbe0a4Wfe_"
      },
      "source": [
        "w = 2*np.random.random_sample((n_dimensions)) - 1\n",
        "b=np.random.random()"
      ],
      "execution_count": null,
      "outputs": []
    },
    {
      "cell_type": "code",
      "metadata": {
        "id": "Bv5f1vmgXrTE"
      },
      "source": [
        "lr = 0.1"
      ],
      "execution_count": null,
      "outputs": []
    },
    {
      "cell_type": "code",
      "metadata": {
        "id": "2CgwWNZzXt3_"
      },
      "source": [
        "epoches = 50"
      ],
      "execution_count": null,
      "outputs": []
    },
    {
      "cell_type": "code",
      "metadata": {
        "colab": {
          "base_uri": "https://localhost:8080/"
        },
        "id": "Qm_lUkshXv-e",
        "outputId": "0fd00ca2-c07f-4511-a90f-f7987fa2def5"
      },
      "source": [
        "\n",
        "for ep in range(epoches):\n",
        "  for i in range(n_datapoints):\n",
        "    net_input =np.dot(w,Data[i,0:n_dimensions]) + b\n",
        "\n",
        "    A = net_input >= 0\n",
        "    E = Data[i,n_dimensions] - A\n",
        "    w = w + lr * E *(Data[i,0:n_dimensions].T)\n",
        "    b= b +lr*E\n",
        "    print(\"Epoc:\",ep,\"weights: \",w,\"bias: \",b)\n",
        "\n"
      ],
      "execution_count": null,
      "outputs": [
        {
          "output_type": "stream",
          "name": "stdout",
          "text": [
            "Epoc: 0 weights:  [-0.97859906 -0.25225372 -0.02802778] bias:  0.6135308765915658\n",
            "Epoc: 0 weights:  [-0.97859906 -0.25225372 -0.12802778] bias:  0.5135308765915658\n",
            "Epoc: 0 weights:  [-0.97859906 -0.35225372 -0.12802778] bias:  0.41353087659156584\n",
            "Epoc: 0 weights:  [-0.97859906 -0.35225372 -0.12802778] bias:  0.41353087659156584\n",
            "Epoc: 0 weights:  [-0.97859906 -0.35225372 -0.12802778] bias:  0.41353087659156584\n",
            "Epoc: 0 weights:  [-0.97859906 -0.35225372 -0.12802778] bias:  0.41353087659156584\n",
            "Epoc: 0 weights:  [-0.97859906 -0.35225372 -0.12802778] bias:  0.41353087659156584\n",
            "Epoc: 0 weights:  [-0.87859906 -0.25225372 -0.02802778] bias:  0.5135308765915658\n",
            "Epoc: 1 weights:  [-0.87859906 -0.25225372 -0.02802778] bias:  0.41353087659156584\n",
            "Epoc: 1 weights:  [-0.87859906 -0.25225372 -0.12802778] bias:  0.31353087659156587\n",
            "Epoc: 1 weights:  [-0.87859906 -0.35225372 -0.12802778] bias:  0.21353087659156586\n",
            "Epoc: 1 weights:  [-0.87859906 -0.35225372 -0.12802778] bias:  0.21353087659156586\n",
            "Epoc: 1 weights:  [-0.87859906 -0.35225372 -0.12802778] bias:  0.21353087659156586\n",
            "Epoc: 1 weights:  [-0.87859906 -0.35225372 -0.12802778] bias:  0.21353087659156586\n",
            "Epoc: 1 weights:  [-0.87859906 -0.35225372 -0.12802778] bias:  0.21353087659156586\n",
            "Epoc: 1 weights:  [-0.77859906 -0.25225372 -0.02802778] bias:  0.31353087659156587\n",
            "Epoc: 2 weights:  [-0.77859906 -0.25225372 -0.02802778] bias:  0.21353087659156586\n",
            "Epoc: 2 weights:  [-0.77859906 -0.25225372 -0.12802778] bias:  0.11353087659156585\n",
            "Epoc: 2 weights:  [-0.77859906 -0.25225372 -0.12802778] bias:  0.11353087659156585\n",
            "Epoc: 2 weights:  [-0.77859906 -0.25225372 -0.12802778] bias:  0.11353087659156585\n",
            "Epoc: 2 weights:  [-0.77859906 -0.25225372 -0.12802778] bias:  0.11353087659156585\n",
            "Epoc: 2 weights:  [-0.77859906 -0.25225372 -0.12802778] bias:  0.11353087659156585\n",
            "Epoc: 2 weights:  [-0.77859906 -0.25225372 -0.12802778] bias:  0.11353087659156585\n",
            "Epoc: 2 weights:  [-0.67859906 -0.15225372 -0.02802778] bias:  0.21353087659156586\n",
            "Epoc: 3 weights:  [-0.67859906 -0.15225372 -0.02802778] bias:  0.11353087659156585\n",
            "Epoc: 3 weights:  [-0.67859906 -0.15225372 -0.12802778] bias:  0.013530876591565849\n",
            "Epoc: 3 weights:  [-0.67859906 -0.15225372 -0.12802778] bias:  0.013530876591565849\n",
            "Epoc: 3 weights:  [-0.67859906 -0.15225372 -0.12802778] bias:  0.013530876591565849\n",
            "Epoc: 3 weights:  [-0.67859906 -0.15225372 -0.12802778] bias:  0.013530876591565849\n",
            "Epoc: 3 weights:  [-0.67859906 -0.15225372 -0.12802778] bias:  0.013530876591565849\n",
            "Epoc: 3 weights:  [-0.67859906 -0.15225372 -0.12802778] bias:  0.013530876591565849\n",
            "Epoc: 3 weights:  [-0.57859906 -0.05225372 -0.02802778] bias:  0.11353087659156585\n",
            "Epoc: 4 weights:  [-0.57859906 -0.05225372 -0.02802778] bias:  0.013530876591565849\n",
            "Epoc: 4 weights:  [-0.57859906 -0.05225372 -0.02802778] bias:  0.013530876591565849\n",
            "Epoc: 4 weights:  [-0.57859906 -0.05225372 -0.02802778] bias:  0.013530876591565849\n",
            "Epoc: 4 weights:  [-0.57859906 -0.05225372 -0.02802778] bias:  0.013530876591565849\n",
            "Epoc: 4 weights:  [-0.57859906 -0.05225372 -0.02802778] bias:  0.013530876591565849\n",
            "Epoc: 4 weights:  [-0.57859906 -0.05225372 -0.02802778] bias:  0.013530876591565849\n",
            "Epoc: 4 weights:  [-0.57859906 -0.05225372 -0.02802778] bias:  0.013530876591565849\n",
            "Epoc: 4 weights:  [-0.47859906  0.04774628  0.07197222] bias:  0.11353087659156585\n",
            "Epoc: 5 weights:  [-0.47859906  0.04774628  0.07197222] bias:  0.013530876591565849\n",
            "Epoc: 5 weights:  [-0.47859906  0.04774628 -0.02802778] bias:  -0.08646912340843416\n",
            "Epoc: 5 weights:  [-0.47859906  0.04774628 -0.02802778] bias:  -0.08646912340843416\n",
            "Epoc: 5 weights:  [-0.47859906  0.04774628 -0.02802778] bias:  -0.08646912340843416\n",
            "Epoc: 5 weights:  [-0.47859906  0.04774628 -0.02802778] bias:  -0.08646912340843416\n",
            "Epoc: 5 weights:  [-0.47859906  0.04774628 -0.02802778] bias:  -0.08646912340843416\n",
            "Epoc: 5 weights:  [-0.47859906  0.04774628 -0.02802778] bias:  -0.08646912340843416\n",
            "Epoc: 5 weights:  [-0.37859906  0.14774628  0.07197222] bias:  0.013530876591565849\n",
            "Epoc: 6 weights:  [-0.37859906  0.14774628  0.07197222] bias:  -0.08646912340843416\n",
            "Epoc: 6 weights:  [-0.37859906  0.14774628  0.07197222] bias:  -0.08646912340843416\n",
            "Epoc: 6 weights:  [-0.37859906  0.04774628  0.07197222] bias:  -0.18646912340843416\n",
            "Epoc: 6 weights:  [-0.37859906  0.04774628  0.07197222] bias:  -0.18646912340843416\n",
            "Epoc: 6 weights:  [-0.37859906  0.04774628  0.07197222] bias:  -0.18646912340843416\n",
            "Epoc: 6 weights:  [-0.37859906  0.04774628  0.07197222] bias:  -0.18646912340843416\n",
            "Epoc: 6 weights:  [-0.37859906  0.04774628  0.07197222] bias:  -0.18646912340843416\n",
            "Epoc: 6 weights:  [-0.27859906  0.14774628  0.17197222] bias:  -0.08646912340843416\n",
            "Epoc: 7 weights:  [-0.27859906  0.14774628  0.17197222] bias:  -0.08646912340843416\n",
            "Epoc: 7 weights:  [-0.27859906  0.14774628  0.07197222] bias:  -0.18646912340843416\n",
            "Epoc: 7 weights:  [-0.27859906  0.14774628  0.07197222] bias:  -0.18646912340843416\n",
            "Epoc: 7 weights:  [-0.27859906  0.04774628 -0.02802778] bias:  -0.28646912340843417\n",
            "Epoc: 7 weights:  [-0.27859906  0.04774628 -0.02802778] bias:  -0.28646912340843417\n",
            "Epoc: 7 weights:  [-0.27859906  0.04774628 -0.02802778] bias:  -0.28646912340843417\n",
            "Epoc: 7 weights:  [-0.27859906  0.04774628 -0.02802778] bias:  -0.28646912340843417\n",
            "Epoc: 7 weights:  [-0.17859906  0.14774628  0.07197222] bias:  -0.18646912340843416\n",
            "Epoc: 8 weights:  [-0.17859906  0.14774628  0.07197222] bias:  -0.18646912340843416\n",
            "Epoc: 8 weights:  [-0.17859906  0.14774628  0.07197222] bias:  -0.18646912340843416\n",
            "Epoc: 8 weights:  [-0.17859906  0.14774628  0.07197222] bias:  -0.18646912340843416\n",
            "Epoc: 8 weights:  [-0.17859906  0.04774628 -0.02802778] bias:  -0.28646912340843417\n",
            "Epoc: 8 weights:  [-0.17859906  0.04774628 -0.02802778] bias:  -0.28646912340843417\n",
            "Epoc: 8 weights:  [-0.17859906  0.04774628 -0.02802778] bias:  -0.28646912340843417\n",
            "Epoc: 8 weights:  [-0.17859906  0.04774628 -0.02802778] bias:  -0.28646912340843417\n",
            "Epoc: 8 weights:  [-0.07859906  0.14774628  0.07197222] bias:  -0.18646912340843416\n",
            "Epoc: 9 weights:  [-0.07859906  0.14774628  0.07197222] bias:  -0.18646912340843416\n",
            "Epoc: 9 weights:  [-0.07859906  0.14774628  0.07197222] bias:  -0.18646912340843416\n",
            "Epoc: 9 weights:  [-0.07859906  0.14774628  0.07197222] bias:  -0.18646912340843416\n",
            "Epoc: 9 weights:  [-0.07859906  0.04774628 -0.02802778] bias:  -0.28646912340843417\n",
            "Epoc: 9 weights:  [-0.07859906  0.04774628 -0.02802778] bias:  -0.28646912340843417\n",
            "Epoc: 9 weights:  [-0.07859906  0.04774628 -0.02802778] bias:  -0.28646912340843417\n",
            "Epoc: 9 weights:  [-0.07859906  0.04774628 -0.02802778] bias:  -0.28646912340843417\n",
            "Epoc: 9 weights:  [0.02140094 0.14774628 0.07197222] bias:  -0.18646912340843416\n",
            "Epoc: 10 weights:  [0.02140094 0.14774628 0.07197222] bias:  -0.18646912340843416\n",
            "Epoc: 10 weights:  [0.02140094 0.14774628 0.07197222] bias:  -0.18646912340843416\n",
            "Epoc: 10 weights:  [0.02140094 0.14774628 0.07197222] bias:  -0.18646912340843416\n",
            "Epoc: 10 weights:  [ 0.02140094  0.04774628 -0.02802778] bias:  -0.28646912340843417\n",
            "Epoc: 10 weights:  [ 0.02140094  0.04774628 -0.02802778] bias:  -0.28646912340843417\n",
            "Epoc: 10 weights:  [ 0.02140094  0.04774628 -0.02802778] bias:  -0.28646912340843417\n",
            "Epoc: 10 weights:  [ 0.02140094  0.04774628 -0.02802778] bias:  -0.28646912340843417\n",
            "Epoc: 10 weights:  [0.12140094 0.14774628 0.07197222] bias:  -0.18646912340843416\n",
            "Epoc: 11 weights:  [0.12140094 0.14774628 0.07197222] bias:  -0.18646912340843416\n",
            "Epoc: 11 weights:  [0.12140094 0.14774628 0.07197222] bias:  -0.18646912340843416\n",
            "Epoc: 11 weights:  [0.12140094 0.14774628 0.07197222] bias:  -0.18646912340843416\n",
            "Epoc: 11 weights:  [ 0.12140094  0.04774628 -0.02802778] bias:  -0.28646912340843417\n",
            "Epoc: 11 weights:  [ 0.12140094  0.04774628 -0.02802778] bias:  -0.28646912340843417\n",
            "Epoc: 11 weights:  [ 0.12140094  0.04774628 -0.02802778] bias:  -0.28646912340843417\n",
            "Epoc: 11 weights:  [ 0.12140094  0.04774628 -0.02802778] bias:  -0.28646912340843417\n",
            "Epoc: 11 weights:  [0.22140094 0.14774628 0.07197222] bias:  -0.18646912340843416\n",
            "Epoc: 12 weights:  [0.22140094 0.14774628 0.07197222] bias:  -0.18646912340843416\n",
            "Epoc: 12 weights:  [0.22140094 0.14774628 0.07197222] bias:  -0.18646912340843416\n",
            "Epoc: 12 weights:  [0.22140094 0.14774628 0.07197222] bias:  -0.18646912340843416\n",
            "Epoc: 12 weights:  [ 0.22140094  0.04774628 -0.02802778] bias:  -0.28646912340843417\n",
            "Epoc: 12 weights:  [ 0.22140094  0.04774628 -0.02802778] bias:  -0.28646912340843417\n",
            "Epoc: 12 weights:  [ 0.22140094  0.04774628 -0.02802778] bias:  -0.28646912340843417\n",
            "Epoc: 12 weights:  [ 0.22140094  0.04774628 -0.02802778] bias:  -0.28646912340843417\n",
            "Epoc: 12 weights:  [0.32140094 0.14774628 0.07197222] bias:  -0.18646912340843416\n",
            "Epoc: 13 weights:  [0.32140094 0.14774628 0.07197222] bias:  -0.18646912340843416\n",
            "Epoc: 13 weights:  [0.32140094 0.14774628 0.07197222] bias:  -0.18646912340843416\n",
            "Epoc: 13 weights:  [0.32140094 0.14774628 0.07197222] bias:  -0.18646912340843416\n",
            "Epoc: 13 weights:  [ 0.32140094  0.04774628 -0.02802778] bias:  -0.28646912340843417\n",
            "Epoc: 13 weights:  [ 0.22140094  0.04774628 -0.02802778] bias:  -0.3864691234084342\n",
            "Epoc: 13 weights:  [ 0.22140094  0.04774628 -0.02802778] bias:  -0.3864691234084342\n",
            "Epoc: 13 weights:  [ 0.22140094  0.04774628 -0.02802778] bias:  -0.3864691234084342\n",
            "Epoc: 13 weights:  [0.32140094 0.14774628 0.07197222] bias:  -0.2864691234084342\n",
            "Epoc: 14 weights:  [0.32140094 0.14774628 0.07197222] bias:  -0.2864691234084342\n",
            "Epoc: 14 weights:  [0.32140094 0.14774628 0.07197222] bias:  -0.2864691234084342\n",
            "Epoc: 14 weights:  [0.32140094 0.14774628 0.07197222] bias:  -0.2864691234084342\n",
            "Epoc: 14 weights:  [0.32140094 0.14774628 0.07197222] bias:  -0.2864691234084342\n",
            "Epoc: 14 weights:  [0.22140094 0.14774628 0.07197222] bias:  -0.3864691234084342\n",
            "Epoc: 14 weights:  [0.22140094 0.14774628 0.07197222] bias:  -0.3864691234084342\n",
            "Epoc: 14 weights:  [0.22140094 0.14774628 0.07197222] bias:  -0.3864691234084342\n",
            "Epoc: 14 weights:  [0.22140094 0.14774628 0.07197222] bias:  -0.3864691234084342\n",
            "Epoc: 15 weights:  [0.22140094 0.14774628 0.07197222] bias:  -0.3864691234084342\n",
            "Epoc: 15 weights:  [0.22140094 0.14774628 0.07197222] bias:  -0.3864691234084342\n",
            "Epoc: 15 weights:  [0.22140094 0.14774628 0.07197222] bias:  -0.3864691234084342\n",
            "Epoc: 15 weights:  [0.22140094 0.14774628 0.07197222] bias:  -0.3864691234084342\n",
            "Epoc: 15 weights:  [0.22140094 0.14774628 0.07197222] bias:  -0.3864691234084342\n",
            "Epoc: 15 weights:  [0.22140094 0.14774628 0.07197222] bias:  -0.3864691234084342\n",
            "Epoc: 15 weights:  [0.22140094 0.14774628 0.07197222] bias:  -0.3864691234084342\n",
            "Epoc: 15 weights:  [0.22140094 0.14774628 0.07197222] bias:  -0.3864691234084342\n",
            "Epoc: 16 weights:  [0.22140094 0.14774628 0.07197222] bias:  -0.3864691234084342\n",
            "Epoc: 16 weights:  [0.22140094 0.14774628 0.07197222] bias:  -0.3864691234084342\n",
            "Epoc: 16 weights:  [0.22140094 0.14774628 0.07197222] bias:  -0.3864691234084342\n",
            "Epoc: 16 weights:  [0.22140094 0.14774628 0.07197222] bias:  -0.3864691234084342\n",
            "Epoc: 16 weights:  [0.22140094 0.14774628 0.07197222] bias:  -0.3864691234084342\n",
            "Epoc: 16 weights:  [0.22140094 0.14774628 0.07197222] bias:  -0.3864691234084342\n",
            "Epoc: 16 weights:  [0.22140094 0.14774628 0.07197222] bias:  -0.3864691234084342\n",
            "Epoc: 16 weights:  [0.22140094 0.14774628 0.07197222] bias:  -0.3864691234084342\n",
            "Epoc: 17 weights:  [0.22140094 0.14774628 0.07197222] bias:  -0.3864691234084342\n",
            "Epoc: 17 weights:  [0.22140094 0.14774628 0.07197222] bias:  -0.3864691234084342\n",
            "Epoc: 17 weights:  [0.22140094 0.14774628 0.07197222] bias:  -0.3864691234084342\n",
            "Epoc: 17 weights:  [0.22140094 0.14774628 0.07197222] bias:  -0.3864691234084342\n",
            "Epoc: 17 weights:  [0.22140094 0.14774628 0.07197222] bias:  -0.3864691234084342\n",
            "Epoc: 17 weights:  [0.22140094 0.14774628 0.07197222] bias:  -0.3864691234084342\n",
            "Epoc: 17 weights:  [0.22140094 0.14774628 0.07197222] bias:  -0.3864691234084342\n",
            "Epoc: 17 weights:  [0.22140094 0.14774628 0.07197222] bias:  -0.3864691234084342\n",
            "Epoc: 18 weights:  [0.22140094 0.14774628 0.07197222] bias:  -0.3864691234084342\n",
            "Epoc: 18 weights:  [0.22140094 0.14774628 0.07197222] bias:  -0.3864691234084342\n",
            "Epoc: 18 weights:  [0.22140094 0.14774628 0.07197222] bias:  -0.3864691234084342\n",
            "Epoc: 18 weights:  [0.22140094 0.14774628 0.07197222] bias:  -0.3864691234084342\n",
            "Epoc: 18 weights:  [0.22140094 0.14774628 0.07197222] bias:  -0.3864691234084342\n",
            "Epoc: 18 weights:  [0.22140094 0.14774628 0.07197222] bias:  -0.3864691234084342\n",
            "Epoc: 18 weights:  [0.22140094 0.14774628 0.07197222] bias:  -0.3864691234084342\n",
            "Epoc: 18 weights:  [0.22140094 0.14774628 0.07197222] bias:  -0.3864691234084342\n",
            "Epoc: 19 weights:  [0.22140094 0.14774628 0.07197222] bias:  -0.3864691234084342\n",
            "Epoc: 19 weights:  [0.22140094 0.14774628 0.07197222] bias:  -0.3864691234084342\n",
            "Epoc: 19 weights:  [0.22140094 0.14774628 0.07197222] bias:  -0.3864691234084342\n",
            "Epoc: 19 weights:  [0.22140094 0.14774628 0.07197222] bias:  -0.3864691234084342\n",
            "Epoc: 19 weights:  [0.22140094 0.14774628 0.07197222] bias:  -0.3864691234084342\n",
            "Epoc: 19 weights:  [0.22140094 0.14774628 0.07197222] bias:  -0.3864691234084342\n",
            "Epoc: 19 weights:  [0.22140094 0.14774628 0.07197222] bias:  -0.3864691234084342\n",
            "Epoc: 19 weights:  [0.22140094 0.14774628 0.07197222] bias:  -0.3864691234084342\n",
            "Epoc: 20 weights:  [0.22140094 0.14774628 0.07197222] bias:  -0.3864691234084342\n",
            "Epoc: 20 weights:  [0.22140094 0.14774628 0.07197222] bias:  -0.3864691234084342\n",
            "Epoc: 20 weights:  [0.22140094 0.14774628 0.07197222] bias:  -0.3864691234084342\n",
            "Epoc: 20 weights:  [0.22140094 0.14774628 0.07197222] bias:  -0.3864691234084342\n",
            "Epoc: 20 weights:  [0.22140094 0.14774628 0.07197222] bias:  -0.3864691234084342\n",
            "Epoc: 20 weights:  [0.22140094 0.14774628 0.07197222] bias:  -0.3864691234084342\n",
            "Epoc: 20 weights:  [0.22140094 0.14774628 0.07197222] bias:  -0.3864691234084342\n",
            "Epoc: 20 weights:  [0.22140094 0.14774628 0.07197222] bias:  -0.3864691234084342\n",
            "Epoc: 21 weights:  [0.22140094 0.14774628 0.07197222] bias:  -0.3864691234084342\n",
            "Epoc: 21 weights:  [0.22140094 0.14774628 0.07197222] bias:  -0.3864691234084342\n",
            "Epoc: 21 weights:  [0.22140094 0.14774628 0.07197222] bias:  -0.3864691234084342\n",
            "Epoc: 21 weights:  [0.22140094 0.14774628 0.07197222] bias:  -0.3864691234084342\n",
            "Epoc: 21 weights:  [0.22140094 0.14774628 0.07197222] bias:  -0.3864691234084342\n",
            "Epoc: 21 weights:  [0.22140094 0.14774628 0.07197222] bias:  -0.3864691234084342\n",
            "Epoc: 21 weights:  [0.22140094 0.14774628 0.07197222] bias:  -0.3864691234084342\n",
            "Epoc: 21 weights:  [0.22140094 0.14774628 0.07197222] bias:  -0.3864691234084342\n",
            "Epoc: 22 weights:  [0.22140094 0.14774628 0.07197222] bias:  -0.3864691234084342\n",
            "Epoc: 22 weights:  [0.22140094 0.14774628 0.07197222] bias:  -0.3864691234084342\n",
            "Epoc: 22 weights:  [0.22140094 0.14774628 0.07197222] bias:  -0.3864691234084342\n",
            "Epoc: 22 weights:  [0.22140094 0.14774628 0.07197222] bias:  -0.3864691234084342\n",
            "Epoc: 22 weights:  [0.22140094 0.14774628 0.07197222] bias:  -0.3864691234084342\n",
            "Epoc: 22 weights:  [0.22140094 0.14774628 0.07197222] bias:  -0.3864691234084342\n",
            "Epoc: 22 weights:  [0.22140094 0.14774628 0.07197222] bias:  -0.3864691234084342\n",
            "Epoc: 22 weights:  [0.22140094 0.14774628 0.07197222] bias:  -0.3864691234084342\n",
            "Epoc: 23 weights:  [0.22140094 0.14774628 0.07197222] bias:  -0.3864691234084342\n",
            "Epoc: 23 weights:  [0.22140094 0.14774628 0.07197222] bias:  -0.3864691234084342\n",
            "Epoc: 23 weights:  [0.22140094 0.14774628 0.07197222] bias:  -0.3864691234084342\n",
            "Epoc: 23 weights:  [0.22140094 0.14774628 0.07197222] bias:  -0.3864691234084342\n",
            "Epoc: 23 weights:  [0.22140094 0.14774628 0.07197222] bias:  -0.3864691234084342\n",
            "Epoc: 23 weights:  [0.22140094 0.14774628 0.07197222] bias:  -0.3864691234084342\n",
            "Epoc: 23 weights:  [0.22140094 0.14774628 0.07197222] bias:  -0.3864691234084342\n",
            "Epoc: 23 weights:  [0.22140094 0.14774628 0.07197222] bias:  -0.3864691234084342\n",
            "Epoc: 24 weights:  [0.22140094 0.14774628 0.07197222] bias:  -0.3864691234084342\n",
            "Epoc: 24 weights:  [0.22140094 0.14774628 0.07197222] bias:  -0.3864691234084342\n",
            "Epoc: 24 weights:  [0.22140094 0.14774628 0.07197222] bias:  -0.3864691234084342\n",
            "Epoc: 24 weights:  [0.22140094 0.14774628 0.07197222] bias:  -0.3864691234084342\n",
            "Epoc: 24 weights:  [0.22140094 0.14774628 0.07197222] bias:  -0.3864691234084342\n",
            "Epoc: 24 weights:  [0.22140094 0.14774628 0.07197222] bias:  -0.3864691234084342\n",
            "Epoc: 24 weights:  [0.22140094 0.14774628 0.07197222] bias:  -0.3864691234084342\n",
            "Epoc: 24 weights:  [0.22140094 0.14774628 0.07197222] bias:  -0.3864691234084342\n",
            "Epoc: 25 weights:  [0.22140094 0.14774628 0.07197222] bias:  -0.3864691234084342\n",
            "Epoc: 25 weights:  [0.22140094 0.14774628 0.07197222] bias:  -0.3864691234084342\n",
            "Epoc: 25 weights:  [0.22140094 0.14774628 0.07197222] bias:  -0.3864691234084342\n",
            "Epoc: 25 weights:  [0.22140094 0.14774628 0.07197222] bias:  -0.3864691234084342\n",
            "Epoc: 25 weights:  [0.22140094 0.14774628 0.07197222] bias:  -0.3864691234084342\n",
            "Epoc: 25 weights:  [0.22140094 0.14774628 0.07197222] bias:  -0.3864691234084342\n",
            "Epoc: 25 weights:  [0.22140094 0.14774628 0.07197222] bias:  -0.3864691234084342\n",
            "Epoc: 25 weights:  [0.22140094 0.14774628 0.07197222] bias:  -0.3864691234084342\n",
            "Epoc: 26 weights:  [0.22140094 0.14774628 0.07197222] bias:  -0.3864691234084342\n",
            "Epoc: 26 weights:  [0.22140094 0.14774628 0.07197222] bias:  -0.3864691234084342\n",
            "Epoc: 26 weights:  [0.22140094 0.14774628 0.07197222] bias:  -0.3864691234084342\n",
            "Epoc: 26 weights:  [0.22140094 0.14774628 0.07197222] bias:  -0.3864691234084342\n",
            "Epoc: 26 weights:  [0.22140094 0.14774628 0.07197222] bias:  -0.3864691234084342\n",
            "Epoc: 26 weights:  [0.22140094 0.14774628 0.07197222] bias:  -0.3864691234084342\n",
            "Epoc: 26 weights:  [0.22140094 0.14774628 0.07197222] bias:  -0.3864691234084342\n",
            "Epoc: 26 weights:  [0.22140094 0.14774628 0.07197222] bias:  -0.3864691234084342\n",
            "Epoc: 27 weights:  [0.22140094 0.14774628 0.07197222] bias:  -0.3864691234084342\n",
            "Epoc: 27 weights:  [0.22140094 0.14774628 0.07197222] bias:  -0.3864691234084342\n",
            "Epoc: 27 weights:  [0.22140094 0.14774628 0.07197222] bias:  -0.3864691234084342\n",
            "Epoc: 27 weights:  [0.22140094 0.14774628 0.07197222] bias:  -0.3864691234084342\n",
            "Epoc: 27 weights:  [0.22140094 0.14774628 0.07197222] bias:  -0.3864691234084342\n",
            "Epoc: 27 weights:  [0.22140094 0.14774628 0.07197222] bias:  -0.3864691234084342\n",
            "Epoc: 27 weights:  [0.22140094 0.14774628 0.07197222] bias:  -0.3864691234084342\n",
            "Epoc: 27 weights:  [0.22140094 0.14774628 0.07197222] bias:  -0.3864691234084342\n",
            "Epoc: 28 weights:  [0.22140094 0.14774628 0.07197222] bias:  -0.3864691234084342\n",
            "Epoc: 28 weights:  [0.22140094 0.14774628 0.07197222] bias:  -0.3864691234084342\n",
            "Epoc: 28 weights:  [0.22140094 0.14774628 0.07197222] bias:  -0.3864691234084342\n",
            "Epoc: 28 weights:  [0.22140094 0.14774628 0.07197222] bias:  -0.3864691234084342\n",
            "Epoc: 28 weights:  [0.22140094 0.14774628 0.07197222] bias:  -0.3864691234084342\n",
            "Epoc: 28 weights:  [0.22140094 0.14774628 0.07197222] bias:  -0.3864691234084342\n",
            "Epoc: 28 weights:  [0.22140094 0.14774628 0.07197222] bias:  -0.3864691234084342\n",
            "Epoc: 28 weights:  [0.22140094 0.14774628 0.07197222] bias:  -0.3864691234084342\n",
            "Epoc: 29 weights:  [0.22140094 0.14774628 0.07197222] bias:  -0.3864691234084342\n",
            "Epoc: 29 weights:  [0.22140094 0.14774628 0.07197222] bias:  -0.3864691234084342\n",
            "Epoc: 29 weights:  [0.22140094 0.14774628 0.07197222] bias:  -0.3864691234084342\n",
            "Epoc: 29 weights:  [0.22140094 0.14774628 0.07197222] bias:  -0.3864691234084342\n",
            "Epoc: 29 weights:  [0.22140094 0.14774628 0.07197222] bias:  -0.3864691234084342\n",
            "Epoc: 29 weights:  [0.22140094 0.14774628 0.07197222] bias:  -0.3864691234084342\n",
            "Epoc: 29 weights:  [0.22140094 0.14774628 0.07197222] bias:  -0.3864691234084342\n",
            "Epoc: 29 weights:  [0.22140094 0.14774628 0.07197222] bias:  -0.3864691234084342\n",
            "Epoc: 30 weights:  [0.22140094 0.14774628 0.07197222] bias:  -0.3864691234084342\n",
            "Epoc: 30 weights:  [0.22140094 0.14774628 0.07197222] bias:  -0.3864691234084342\n",
            "Epoc: 30 weights:  [0.22140094 0.14774628 0.07197222] bias:  -0.3864691234084342\n",
            "Epoc: 30 weights:  [0.22140094 0.14774628 0.07197222] bias:  -0.3864691234084342\n",
            "Epoc: 30 weights:  [0.22140094 0.14774628 0.07197222] bias:  -0.3864691234084342\n",
            "Epoc: 30 weights:  [0.22140094 0.14774628 0.07197222] bias:  -0.3864691234084342\n",
            "Epoc: 30 weights:  [0.22140094 0.14774628 0.07197222] bias:  -0.3864691234084342\n",
            "Epoc: 30 weights:  [0.22140094 0.14774628 0.07197222] bias:  -0.3864691234084342\n",
            "Epoc: 31 weights:  [0.22140094 0.14774628 0.07197222] bias:  -0.3864691234084342\n",
            "Epoc: 31 weights:  [0.22140094 0.14774628 0.07197222] bias:  -0.3864691234084342\n",
            "Epoc: 31 weights:  [0.22140094 0.14774628 0.07197222] bias:  -0.3864691234084342\n",
            "Epoc: 31 weights:  [0.22140094 0.14774628 0.07197222] bias:  -0.3864691234084342\n",
            "Epoc: 31 weights:  [0.22140094 0.14774628 0.07197222] bias:  -0.3864691234084342\n",
            "Epoc: 31 weights:  [0.22140094 0.14774628 0.07197222] bias:  -0.3864691234084342\n",
            "Epoc: 31 weights:  [0.22140094 0.14774628 0.07197222] bias:  -0.3864691234084342\n",
            "Epoc: 31 weights:  [0.22140094 0.14774628 0.07197222] bias:  -0.3864691234084342\n",
            "Epoc: 32 weights:  [0.22140094 0.14774628 0.07197222] bias:  -0.3864691234084342\n",
            "Epoc: 32 weights:  [0.22140094 0.14774628 0.07197222] bias:  -0.3864691234084342\n",
            "Epoc: 32 weights:  [0.22140094 0.14774628 0.07197222] bias:  -0.3864691234084342\n",
            "Epoc: 32 weights:  [0.22140094 0.14774628 0.07197222] bias:  -0.3864691234084342\n",
            "Epoc: 32 weights:  [0.22140094 0.14774628 0.07197222] bias:  -0.3864691234084342\n",
            "Epoc: 32 weights:  [0.22140094 0.14774628 0.07197222] bias:  -0.3864691234084342\n",
            "Epoc: 32 weights:  [0.22140094 0.14774628 0.07197222] bias:  -0.3864691234084342\n",
            "Epoc: 32 weights:  [0.22140094 0.14774628 0.07197222] bias:  -0.3864691234084342\n",
            "Epoc: 33 weights:  [0.22140094 0.14774628 0.07197222] bias:  -0.3864691234084342\n",
            "Epoc: 33 weights:  [0.22140094 0.14774628 0.07197222] bias:  -0.3864691234084342\n",
            "Epoc: 33 weights:  [0.22140094 0.14774628 0.07197222] bias:  -0.3864691234084342\n",
            "Epoc: 33 weights:  [0.22140094 0.14774628 0.07197222] bias:  -0.3864691234084342\n",
            "Epoc: 33 weights:  [0.22140094 0.14774628 0.07197222] bias:  -0.3864691234084342\n",
            "Epoc: 33 weights:  [0.22140094 0.14774628 0.07197222] bias:  -0.3864691234084342\n",
            "Epoc: 33 weights:  [0.22140094 0.14774628 0.07197222] bias:  -0.3864691234084342\n",
            "Epoc: 33 weights:  [0.22140094 0.14774628 0.07197222] bias:  -0.3864691234084342\n",
            "Epoc: 34 weights:  [0.22140094 0.14774628 0.07197222] bias:  -0.3864691234084342\n",
            "Epoc: 34 weights:  [0.22140094 0.14774628 0.07197222] bias:  -0.3864691234084342\n",
            "Epoc: 34 weights:  [0.22140094 0.14774628 0.07197222] bias:  -0.3864691234084342\n",
            "Epoc: 34 weights:  [0.22140094 0.14774628 0.07197222] bias:  -0.3864691234084342\n",
            "Epoc: 34 weights:  [0.22140094 0.14774628 0.07197222] bias:  -0.3864691234084342\n",
            "Epoc: 34 weights:  [0.22140094 0.14774628 0.07197222] bias:  -0.3864691234084342\n",
            "Epoc: 34 weights:  [0.22140094 0.14774628 0.07197222] bias:  -0.3864691234084342\n",
            "Epoc: 34 weights:  [0.22140094 0.14774628 0.07197222] bias:  -0.3864691234084342\n",
            "Epoc: 35 weights:  [0.22140094 0.14774628 0.07197222] bias:  -0.3864691234084342\n",
            "Epoc: 35 weights:  [0.22140094 0.14774628 0.07197222] bias:  -0.3864691234084342\n",
            "Epoc: 35 weights:  [0.22140094 0.14774628 0.07197222] bias:  -0.3864691234084342\n",
            "Epoc: 35 weights:  [0.22140094 0.14774628 0.07197222] bias:  -0.3864691234084342\n",
            "Epoc: 35 weights:  [0.22140094 0.14774628 0.07197222] bias:  -0.3864691234084342\n",
            "Epoc: 35 weights:  [0.22140094 0.14774628 0.07197222] bias:  -0.3864691234084342\n",
            "Epoc: 35 weights:  [0.22140094 0.14774628 0.07197222] bias:  -0.3864691234084342\n",
            "Epoc: 35 weights:  [0.22140094 0.14774628 0.07197222] bias:  -0.3864691234084342\n",
            "Epoc: 36 weights:  [0.22140094 0.14774628 0.07197222] bias:  -0.3864691234084342\n",
            "Epoc: 36 weights:  [0.22140094 0.14774628 0.07197222] bias:  -0.3864691234084342\n",
            "Epoc: 36 weights:  [0.22140094 0.14774628 0.07197222] bias:  -0.3864691234084342\n",
            "Epoc: 36 weights:  [0.22140094 0.14774628 0.07197222] bias:  -0.3864691234084342\n",
            "Epoc: 36 weights:  [0.22140094 0.14774628 0.07197222] bias:  -0.3864691234084342\n",
            "Epoc: 36 weights:  [0.22140094 0.14774628 0.07197222] bias:  -0.3864691234084342\n",
            "Epoc: 36 weights:  [0.22140094 0.14774628 0.07197222] bias:  -0.3864691234084342\n",
            "Epoc: 36 weights:  [0.22140094 0.14774628 0.07197222] bias:  -0.3864691234084342\n",
            "Epoc: 37 weights:  [0.22140094 0.14774628 0.07197222] bias:  -0.3864691234084342\n",
            "Epoc: 37 weights:  [0.22140094 0.14774628 0.07197222] bias:  -0.3864691234084342\n",
            "Epoc: 37 weights:  [0.22140094 0.14774628 0.07197222] bias:  -0.3864691234084342\n",
            "Epoc: 37 weights:  [0.22140094 0.14774628 0.07197222] bias:  -0.3864691234084342\n",
            "Epoc: 37 weights:  [0.22140094 0.14774628 0.07197222] bias:  -0.3864691234084342\n",
            "Epoc: 37 weights:  [0.22140094 0.14774628 0.07197222] bias:  -0.3864691234084342\n",
            "Epoc: 37 weights:  [0.22140094 0.14774628 0.07197222] bias:  -0.3864691234084342\n",
            "Epoc: 37 weights:  [0.22140094 0.14774628 0.07197222] bias:  -0.3864691234084342\n",
            "Epoc: 38 weights:  [0.22140094 0.14774628 0.07197222] bias:  -0.3864691234084342\n",
            "Epoc: 38 weights:  [0.22140094 0.14774628 0.07197222] bias:  -0.3864691234084342\n",
            "Epoc: 38 weights:  [0.22140094 0.14774628 0.07197222] bias:  -0.3864691234084342\n",
            "Epoc: 38 weights:  [0.22140094 0.14774628 0.07197222] bias:  -0.3864691234084342\n",
            "Epoc: 38 weights:  [0.22140094 0.14774628 0.07197222] bias:  -0.3864691234084342\n",
            "Epoc: 38 weights:  [0.22140094 0.14774628 0.07197222] bias:  -0.3864691234084342\n",
            "Epoc: 38 weights:  [0.22140094 0.14774628 0.07197222] bias:  -0.3864691234084342\n",
            "Epoc: 38 weights:  [0.22140094 0.14774628 0.07197222] bias:  -0.3864691234084342\n",
            "Epoc: 39 weights:  [0.22140094 0.14774628 0.07197222] bias:  -0.3864691234084342\n",
            "Epoc: 39 weights:  [0.22140094 0.14774628 0.07197222] bias:  -0.3864691234084342\n",
            "Epoc: 39 weights:  [0.22140094 0.14774628 0.07197222] bias:  -0.3864691234084342\n",
            "Epoc: 39 weights:  [0.22140094 0.14774628 0.07197222] bias:  -0.3864691234084342\n",
            "Epoc: 39 weights:  [0.22140094 0.14774628 0.07197222] bias:  -0.3864691234084342\n",
            "Epoc: 39 weights:  [0.22140094 0.14774628 0.07197222] bias:  -0.3864691234084342\n",
            "Epoc: 39 weights:  [0.22140094 0.14774628 0.07197222] bias:  -0.3864691234084342\n",
            "Epoc: 39 weights:  [0.22140094 0.14774628 0.07197222] bias:  -0.3864691234084342\n",
            "Epoc: 40 weights:  [0.22140094 0.14774628 0.07197222] bias:  -0.3864691234084342\n",
            "Epoc: 40 weights:  [0.22140094 0.14774628 0.07197222] bias:  -0.3864691234084342\n",
            "Epoc: 40 weights:  [0.22140094 0.14774628 0.07197222] bias:  -0.3864691234084342\n",
            "Epoc: 40 weights:  [0.22140094 0.14774628 0.07197222] bias:  -0.3864691234084342\n",
            "Epoc: 40 weights:  [0.22140094 0.14774628 0.07197222] bias:  -0.3864691234084342\n",
            "Epoc: 40 weights:  [0.22140094 0.14774628 0.07197222] bias:  -0.3864691234084342\n",
            "Epoc: 40 weights:  [0.22140094 0.14774628 0.07197222] bias:  -0.3864691234084342\n",
            "Epoc: 40 weights:  [0.22140094 0.14774628 0.07197222] bias:  -0.3864691234084342\n",
            "Epoc: 41 weights:  [0.22140094 0.14774628 0.07197222] bias:  -0.3864691234084342\n",
            "Epoc: 41 weights:  [0.22140094 0.14774628 0.07197222] bias:  -0.3864691234084342\n",
            "Epoc: 41 weights:  [0.22140094 0.14774628 0.07197222] bias:  -0.3864691234084342\n",
            "Epoc: 41 weights:  [0.22140094 0.14774628 0.07197222] bias:  -0.3864691234084342\n",
            "Epoc: 41 weights:  [0.22140094 0.14774628 0.07197222] bias:  -0.3864691234084342\n",
            "Epoc: 41 weights:  [0.22140094 0.14774628 0.07197222] bias:  -0.3864691234084342\n",
            "Epoc: 41 weights:  [0.22140094 0.14774628 0.07197222] bias:  -0.3864691234084342\n",
            "Epoc: 41 weights:  [0.22140094 0.14774628 0.07197222] bias:  -0.3864691234084342\n",
            "Epoc: 42 weights:  [0.22140094 0.14774628 0.07197222] bias:  -0.3864691234084342\n",
            "Epoc: 42 weights:  [0.22140094 0.14774628 0.07197222] bias:  -0.3864691234084342\n",
            "Epoc: 42 weights:  [0.22140094 0.14774628 0.07197222] bias:  -0.3864691234084342\n",
            "Epoc: 42 weights:  [0.22140094 0.14774628 0.07197222] bias:  -0.3864691234084342\n",
            "Epoc: 42 weights:  [0.22140094 0.14774628 0.07197222] bias:  -0.3864691234084342\n",
            "Epoc: 42 weights:  [0.22140094 0.14774628 0.07197222] bias:  -0.3864691234084342\n",
            "Epoc: 42 weights:  [0.22140094 0.14774628 0.07197222] bias:  -0.3864691234084342\n",
            "Epoc: 42 weights:  [0.22140094 0.14774628 0.07197222] bias:  -0.3864691234084342\n",
            "Epoc: 43 weights:  [0.22140094 0.14774628 0.07197222] bias:  -0.3864691234084342\n",
            "Epoc: 43 weights:  [0.22140094 0.14774628 0.07197222] bias:  -0.3864691234084342\n",
            "Epoc: 43 weights:  [0.22140094 0.14774628 0.07197222] bias:  -0.3864691234084342\n",
            "Epoc: 43 weights:  [0.22140094 0.14774628 0.07197222] bias:  -0.3864691234084342\n",
            "Epoc: 43 weights:  [0.22140094 0.14774628 0.07197222] bias:  -0.3864691234084342\n",
            "Epoc: 43 weights:  [0.22140094 0.14774628 0.07197222] bias:  -0.3864691234084342\n",
            "Epoc: 43 weights:  [0.22140094 0.14774628 0.07197222] bias:  -0.3864691234084342\n",
            "Epoc: 43 weights:  [0.22140094 0.14774628 0.07197222] bias:  -0.3864691234084342\n",
            "Epoc: 44 weights:  [0.22140094 0.14774628 0.07197222] bias:  -0.3864691234084342\n",
            "Epoc: 44 weights:  [0.22140094 0.14774628 0.07197222] bias:  -0.3864691234084342\n",
            "Epoc: 44 weights:  [0.22140094 0.14774628 0.07197222] bias:  -0.3864691234084342\n",
            "Epoc: 44 weights:  [0.22140094 0.14774628 0.07197222] bias:  -0.3864691234084342\n",
            "Epoc: 44 weights:  [0.22140094 0.14774628 0.07197222] bias:  -0.3864691234084342\n",
            "Epoc: 44 weights:  [0.22140094 0.14774628 0.07197222] bias:  -0.3864691234084342\n",
            "Epoc: 44 weights:  [0.22140094 0.14774628 0.07197222] bias:  -0.3864691234084342\n",
            "Epoc: 44 weights:  [0.22140094 0.14774628 0.07197222] bias:  -0.3864691234084342\n",
            "Epoc: 45 weights:  [0.22140094 0.14774628 0.07197222] bias:  -0.3864691234084342\n",
            "Epoc: 45 weights:  [0.22140094 0.14774628 0.07197222] bias:  -0.3864691234084342\n",
            "Epoc: 45 weights:  [0.22140094 0.14774628 0.07197222] bias:  -0.3864691234084342\n",
            "Epoc: 45 weights:  [0.22140094 0.14774628 0.07197222] bias:  -0.3864691234084342\n",
            "Epoc: 45 weights:  [0.22140094 0.14774628 0.07197222] bias:  -0.3864691234084342\n",
            "Epoc: 45 weights:  [0.22140094 0.14774628 0.07197222] bias:  -0.3864691234084342\n",
            "Epoc: 45 weights:  [0.22140094 0.14774628 0.07197222] bias:  -0.3864691234084342\n",
            "Epoc: 45 weights:  [0.22140094 0.14774628 0.07197222] bias:  -0.3864691234084342\n",
            "Epoc: 46 weights:  [0.22140094 0.14774628 0.07197222] bias:  -0.3864691234084342\n",
            "Epoc: 46 weights:  [0.22140094 0.14774628 0.07197222] bias:  -0.3864691234084342\n",
            "Epoc: 46 weights:  [0.22140094 0.14774628 0.07197222] bias:  -0.3864691234084342\n",
            "Epoc: 46 weights:  [0.22140094 0.14774628 0.07197222] bias:  -0.3864691234084342\n",
            "Epoc: 46 weights:  [0.22140094 0.14774628 0.07197222] bias:  -0.3864691234084342\n",
            "Epoc: 46 weights:  [0.22140094 0.14774628 0.07197222] bias:  -0.3864691234084342\n",
            "Epoc: 46 weights:  [0.22140094 0.14774628 0.07197222] bias:  -0.3864691234084342\n",
            "Epoc: 46 weights:  [0.22140094 0.14774628 0.07197222] bias:  -0.3864691234084342\n",
            "Epoc: 47 weights:  [0.22140094 0.14774628 0.07197222] bias:  -0.3864691234084342\n",
            "Epoc: 47 weights:  [0.22140094 0.14774628 0.07197222] bias:  -0.3864691234084342\n",
            "Epoc: 47 weights:  [0.22140094 0.14774628 0.07197222] bias:  -0.3864691234084342\n",
            "Epoc: 47 weights:  [0.22140094 0.14774628 0.07197222] bias:  -0.3864691234084342\n",
            "Epoc: 47 weights:  [0.22140094 0.14774628 0.07197222] bias:  -0.3864691234084342\n",
            "Epoc: 47 weights:  [0.22140094 0.14774628 0.07197222] bias:  -0.3864691234084342\n",
            "Epoc: 47 weights:  [0.22140094 0.14774628 0.07197222] bias:  -0.3864691234084342\n",
            "Epoc: 47 weights:  [0.22140094 0.14774628 0.07197222] bias:  -0.3864691234084342\n",
            "Epoc: 48 weights:  [0.22140094 0.14774628 0.07197222] bias:  -0.3864691234084342\n",
            "Epoc: 48 weights:  [0.22140094 0.14774628 0.07197222] bias:  -0.3864691234084342\n",
            "Epoc: 48 weights:  [0.22140094 0.14774628 0.07197222] bias:  -0.3864691234084342\n",
            "Epoc: 48 weights:  [0.22140094 0.14774628 0.07197222] bias:  -0.3864691234084342\n",
            "Epoc: 48 weights:  [0.22140094 0.14774628 0.07197222] bias:  -0.3864691234084342\n",
            "Epoc: 48 weights:  [0.22140094 0.14774628 0.07197222] bias:  -0.3864691234084342\n",
            "Epoc: 48 weights:  [0.22140094 0.14774628 0.07197222] bias:  -0.3864691234084342\n",
            "Epoc: 48 weights:  [0.22140094 0.14774628 0.07197222] bias:  -0.3864691234084342\n",
            "Epoc: 49 weights:  [0.22140094 0.14774628 0.07197222] bias:  -0.3864691234084342\n",
            "Epoc: 49 weights:  [0.22140094 0.14774628 0.07197222] bias:  -0.3864691234084342\n",
            "Epoc: 49 weights:  [0.22140094 0.14774628 0.07197222] bias:  -0.3864691234084342\n",
            "Epoc: 49 weights:  [0.22140094 0.14774628 0.07197222] bias:  -0.3864691234084342\n",
            "Epoc: 49 weights:  [0.22140094 0.14774628 0.07197222] bias:  -0.3864691234084342\n",
            "Epoc: 49 weights:  [0.22140094 0.14774628 0.07197222] bias:  -0.3864691234084342\n",
            "Epoc: 49 weights:  [0.22140094 0.14774628 0.07197222] bias:  -0.3864691234084342\n",
            "Epoc: 49 weights:  [0.22140094 0.14774628 0.07197222] bias:  -0.3864691234084342\n"
          ]
        }
      ]
    },
    {
      "cell_type": "code",
      "metadata": {
        "colab": {
          "base_uri": "https://localhost:8080/"
        },
        "id": "Q-5dF0gaY00L",
        "outputId": "2d969c1c-b82e-45f9-a889-013a397b46e3"
      },
      "source": [
        "print(\"Final weights\",w)\n",
        "print(\"Final bias \",b)"
      ],
      "execution_count": null,
      "outputs": [
        {
          "output_type": "stream",
          "name": "stdout",
          "text": [
            "Final weights [0.22140094 0.14774628 0.07197222]\n",
            "Final bias  -0.3864691234084342\n"
          ]
        }
      ]
    },
    {
      "cell_type": "code",
      "metadata": {
        "colab": {
          "base_uri": "https://localhost:8080/"
        },
        "id": "WEwjZ3OBYvYH",
        "outputId": "97d948f9-8193-4dda-aac4-782c656d33e6"
      },
      "source": [
        "prediciton = (np.dot(Data[:,0:n_dimensions],w)+b)>=0\n",
        "prediciton"
      ],
      "execution_count": null,
      "outputs": [
        {
          "output_type": "execute_result",
          "data": {
            "text/plain": [
              "array([False, False, False, False, False, False, False,  True])"
            ]
          },
          "metadata": {},
          "execution_count": 26
        }
      ]
    },
    {
      "cell_type": "code",
      "metadata": {
        "colab": {
          "base_uri": "https://localhost:8080/"
        },
        "id": "PI0PJTf8Z09g",
        "outputId": "79cc620a-c16f-4ea9-f967-cb136602f39d"
      },
      "source": [
        "Final=[]\n",
        "for i in prediciton:\n",
        "  if i==True:\n",
        "    Final.append(1)\n",
        "  else:\n",
        "    Final.append(0)\n",
        "\n",
        "Final"
      ],
      "execution_count": null,
      "outputs": [
        {
          "output_type": "execute_result",
          "data": {
            "text/plain": [
              "[0, 0, 0, 0, 0, 0, 0, 1]"
            ]
          },
          "metadata": {},
          "execution_count": 27
        }
      ]
    },
    {
      "cell_type": "code",
      "metadata": {
        "id": "Aj-5XHsREW-u"
      },
      "source": [
        "#pTcrw4bw\n",
        "#https://nirmauni.webex.com/recordingservice/sites/nirmauni/recording/04fe07c919cf103abf7c00505681f9de/playback"
      ],
      "execution_count": null,
      "outputs": []
    }
  ]
}